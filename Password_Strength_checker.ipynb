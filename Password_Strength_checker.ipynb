{
 "cells": [
  {
   "cell_type": "code",
   "execution_count": 1,
   "id": "7df414af",
   "metadata": {},
   "outputs": [],
   "source": [
    "import pandas as pd\n",
    "import numpy as np\n",
    "from sklearn.feature_extraction.text import CountVectorizer\n",
    "from sklearn.feature_extraction.text import TfidfVectorizer\n",
    "from sklearn.model_selection import train_test_split\n",
    "from sklearn.ensemble import RandomForestClassifier\n",
    "\n",
    "import tkinter as tk\n",
    "from tkinter import messagebox"
   ]
  },
  {
   "cell_type": "code",
   "execution_count": 2,
   "id": "0ac84d34",
   "metadata": {},
   "outputs": [
    {
     "name": "stdout",
     "output_type": "stream",
     "text": [
      "      password  strength\n",
      "0     kzde5577         1\n",
      "1     kino3434         1\n",
      "2    visi7k1yr         1\n",
      "3     megzy123         1\n",
      "4  lamborghin1         1\n"
     ]
    }
   ],
   "source": [
    "data = pd.read_csv(\"Password_Strength_Checker Dataset.csv\")\n",
    "print(data.head())"
   ]
  },
  {
   "cell_type": "code",
   "execution_count": 3,
   "id": "20b07ebb",
   "metadata": {},
   "outputs": [
    {
     "name": "stdout",
     "output_type": "stream",
     "text": [
      "                password strength\n",
      "281482         pexypa816   Medium\n",
      "620397            jp9929     Weak\n",
      "595576         latyru249   Medium\n",
      "221536           14gbvrm     Weak\n",
      "188553  tMS2fFTY4MwsE3J5   Strong\n"
     ]
    }
   ],
   "source": [
    "data = data.dropna()\n",
    "data[\"strength\"] = data[\"strength\"].map({0: \"Weak\",\n",
    "                                         1: \"Medium\",\n",
    "                                         2: \"Strong\"})\n",
    "print(data.sample(5))"
   ]
  },
  {
   "cell_type": "code",
   "execution_count": 4,
   "id": "ed7f7861",
   "metadata": {},
   "outputs": [
    {
     "name": "stderr",
     "output_type": "stream",
     "text": [
      "C:\\Users\\Tejal\\anaconda3\\Lib\\site-packages\\sklearn\\feature_extraction\\text.py:528: UserWarning: The parameter 'token_pattern' will not be used since 'tokenizer' is not None'\n",
      "  warnings.warn(\n"
     ]
    }
   ],
   "source": [
    "def word(password):\n",
    "    character=[]\n",
    "    for i in password:\n",
    "        character.append(i)\n",
    "    return character\n",
    "\n",
    "# Assigns the values of the \"password\" column from the data DataFrame to a NumPy array x.\n",
    "# Assigns the values of the \"strength\" column from the data DataFrame to a NumPy array y.\n",
    "x = np.array(data[\"password\"])\n",
    "y = np.array(data[\"strength\"])\n",
    "\n",
    "# Creates an instance of the TfidfVectorizer class from the sklearn.feature_extraction.text module and assigns it to the variable tdif\n",
    "\n",
    "tdif = TfidfVectorizer(tokenizer=word) # word function will be applied to each password to convert it into a list of characters.\n",
    "# The fit_transform() method combines two steps: fitting the vectorizer on the input data and transforming the\n",
    "# input data into a numerical representation based on the learned vocabulary.\n",
    "x = tdif.fit_transform(x)\n",
    "xtrain, xtest, ytrain, ytest = train_test_split(x, y,\n",
    "                                                test_size=0.05,  # test_size = 5%\n",
    "                                                random_state=42)"
   ]
  },
  {
   "cell_type": "code",
   "execution_count": 5,
   "id": "323d410d",
   "metadata": {},
   "outputs": [
    {
     "name": "stdout",
     "output_type": "stream",
     "text": [
      "0.9569320829102205\n"
     ]
    }
   ],
   "source": [
    "model = RandomForestClassifier()\n",
    "# trains the random forest classifier using the training data.\n",
    "model.fit(xtrain, ytrain)\n",
    "print(model.score(xtest, ytest))"
   ]
  },
  {
   "cell_type": "code",
   "execution_count": 6,
   "id": "9d48615f",
   "metadata": {},
   "outputs": [
    {
     "name": "stdin",
     "output_type": "stream",
     "text": [
      "Enter Password:  ········\n"
     ]
    },
    {
     "name": "stdout",
     "output_type": "stream",
     "text": [
      "['Strong']\n"
     ]
    }
   ],
   "source": [
    "import getpass\n",
    "user = getpass.getpass(\"Enter Password: \")\n",
    "data = tdif.transform([user]).toarray()\n",
    "output = model.predict(data)\n",
    "print(output)"
   ]
  },
  {
   "cell_type": "code",
   "execution_count": 27,
   "id": "acc0dc64-4c91-485f-9453-2d27ec306085",
   "metadata": {},
   "outputs": [],
   "source": [
    "# Function to check password strength\n",
    "def check_password():\n",
    "    password = password_entry.get()\n",
    "    data = tdif.transform([password]).toarray()\n",
    "    output = model.predict(data)\n",
    "    messagebox.showinfo(\"Password Strength\", f\"The strength of the password is: {output[0]}\")"
   ]
  },
  {
   "cell_type": "code",
   "execution_count": 28,
   "id": "8e03907d-14cf-4530-9fde-7fd34471e282",
   "metadata": {},
   "outputs": [
    {
     "data": {
      "text/plain": [
       "''"
      ]
     },
     "execution_count": 28,
     "metadata": {},
     "output_type": "execute_result"
    }
   ],
   "source": [
    "# Create GUI window\n",
    "window = tk.Tk()\n",
    "window.title(\"Password Strength Checker\")"
   ]
  },
  {
   "cell_type": "code",
   "execution_count": 29,
   "id": "c4053b76-fff7-472b-b779-fcc5eb619034",
   "metadata": {},
   "outputs": [],
   "source": [
    "# Add a label for instructions\n",
    "label = tk.Label(window, text=\"Enter your password:\", font=(\"Arial\", 14))\n",
    "label.pack()\n",
    "label.pack()"
   ]
  },
  {
   "cell_type": "code",
   "execution_count": 30,
   "id": "5e3b036c-0318-451e-83e5-01ff0ea27076",
   "metadata": {},
   "outputs": [],
   "source": [
    "# Add an entry field for password input\n",
    "password_entry = tk.Entry(window, show=\"*\", font=(\"Arial\", 14))\n",
    "label.pack()\n",
    "password_entry.pack()"
   ]
  },
  {
   "cell_type": "code",
   "execution_count": 31,
   "id": "ffe6227e-8b25-433f-ad84-b5b2e9bfddd6",
   "metadata": {},
   "outputs": [],
   "source": [
    "# Add a button to check password strength\n",
    "check_button = tk.Button(window, text=\"Check Password Strength\", command=check_password, font=(\"Arial\", 14))\n",
    "check_button.pack()"
   ]
  },
  {
   "cell_type": "code",
   "execution_count": 32,
   "id": "8713c089-c931-4b55-bc31-d0c24c01d091",
   "metadata": {},
   "outputs": [],
   "source": [
    "# Run the GUI loop\n",
    "window.mainloop()"
   ]
  },
  {
   "cell_type": "code",
   "execution_count": null,
   "id": "3e3865a9-ce0a-4e44-b536-c97c3bd65c1a",
   "metadata": {},
   "outputs": [],
   "source": []
  }
 ],
 "metadata": {
  "kernelspec": {
   "display_name": "Python 3 (ipykernel)",
   "language": "python",
   "name": "python3"
  },
  "language_info": {
   "codemirror_mode": {
    "name": "ipython",
    "version": 3
   },
   "file_extension": ".py",
   "mimetype": "text/x-python",
   "name": "python",
   "nbconvert_exporter": "python",
   "pygments_lexer": "ipython3",
   "version": "3.11.8"
  }
 },
 "nbformat": 4,
 "nbformat_minor": 5
}
